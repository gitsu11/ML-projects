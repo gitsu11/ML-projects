{
 "cells": [
  {
   "cell_type": "code",
   "execution_count": null,
   "id": "c5457420",
   "metadata": {},
   "outputs": [],
   "source": [
    "#conda install PyTorch -c Pytorch"
   ]
  },
  {
   "cell_type": "code",
   "execution_count": null,
   "id": "57218d12",
   "metadata": {},
   "outputs": [],
   "source": [
    "#pip install tensorflow --ignore-installed"
   ]
  },
  {
   "cell_type": "code",
   "execution_count": null,
   "id": "545e11a4",
   "metadata": {},
   "outputs": [],
   "source": [
    "# Importing all the required libraries\n",
    "\n",
    "%matplotlib inline\n",
    "import pandas as pd\n",
    "import numpy as np\n",
    "import matplotlib.pyplot as plt\n",
    "import seaborn as sns\n",
    "from sklearn.model_selection import train_test_split\n",
    "import torch\n",
    "import torch.nn as nn\n",
    "import torch.nn.functional as F\n",
    "from tensorflow import keras\n",
    "from keras.models import Sequential\n",
    "from keras.layers import Dense\n",
    "from sklearn.model_selection import train_test_split\n",
    "from sklearn.metrics import accuracy_score\n",
    "from sklearn.metrics import confusion_matrix"
   ]
  },
  {
   "cell_type": "code",
   "execution_count": null,
   "id": "6750b0c9",
   "metadata": {},
   "outputs": [],
   "source": [
    "diabetes = pd.read_csv('diabetes.csv')"
   ]
  },
  {
   "cell_type": "code",
   "execution_count": null,
   "id": "ff74417f",
   "metadata": {},
   "outputs": [],
   "source": [
    "diabetes.columns = ('F1', 'F2', 'F3', 'F4', 'F5', 'F6', 'F7', 'F8', 'Output')"
   ]
  },
  {
   "cell_type": "code",
   "execution_count": null,
   "id": "7ee75377",
   "metadata": {},
   "outputs": [],
   "source": [
    "diabetes.head()"
   ]
  },
  {
   "cell_type": "code",
   "execution_count": null,
   "id": "6352bd63",
   "metadata": {},
   "outputs": [],
   "source": [
    "diabetes.shape"
   ]
  },
  {
   "cell_type": "code",
   "execution_count": null,
   "id": "dcb00464",
   "metadata": {},
   "outputs": [],
   "source": [
    "diabetes.info"
   ]
  },
  {
   "cell_type": "code",
   "execution_count": null,
   "id": "9c55c4e5",
   "metadata": {},
   "outputs": [],
   "source": [
    "diabetes.describe()"
   ]
  },
  {
   "cell_type": "code",
   "execution_count": null,
   "id": "1e3f45b7",
   "metadata": {},
   "outputs": [],
   "source": [
    "diabetes.isnull().sum()"
   ]
  },
  {
   "cell_type": "code",
   "execution_count": null,
   "id": "01667d85",
   "metadata": {},
   "outputs": [],
   "source": [
    "diabetes.groupby('Output').size()"
   ]
  },
  {
   "cell_type": "code",
   "execution_count": null,
   "id": "663f35d6",
   "metadata": {},
   "outputs": [],
   "source": [
    "#maybe zero is the actual value and we don't have any null values so these codes are not required\n",
    "(diabetes['F1']==0).sum()"
   ]
  },
  {
   "cell_type": "code",
   "execution_count": null,
   "id": "6e94c20d",
   "metadata": {},
   "outputs": [],
   "source": [
    "(diabetes['F2']==0).sum()"
   ]
  },
  {
   "cell_type": "code",
   "execution_count": null,
   "id": "3c3f7e09",
   "metadata": {},
   "outputs": [],
   "source": [
    "(diabetes['F3']==0).sum()"
   ]
  },
  {
   "cell_type": "code",
   "execution_count": null,
   "id": "695fdda0",
   "metadata": {},
   "outputs": [],
   "source": [
    "(diabetes['F4']==0).sum()"
   ]
  },
  {
   "cell_type": "code",
   "execution_count": null,
   "id": "571aa4de",
   "metadata": {},
   "outputs": [],
   "source": [
    "(diabetes['F5']==0).sum()"
   ]
  },
  {
   "cell_type": "code",
   "execution_count": null,
   "id": "98d4d6b9",
   "metadata": {},
   "outputs": [],
   "source": [
    "(diabetes['F6']==0).sum()"
   ]
  },
  {
   "cell_type": "code",
   "execution_count": null,
   "id": "63070ff3",
   "metadata": {},
   "outputs": [],
   "source": [
    "(diabetes['F7']==0).sum()"
   ]
  },
  {
   "cell_type": "code",
   "execution_count": null,
   "id": "462e737d",
   "metadata": {},
   "outputs": [],
   "source": [
    "(diabetes['F8']==0).sum()"
   ]
  },
  {
   "cell_type": "code",
   "execution_count": null,
   "id": "d79445c4",
   "metadata": {},
   "outputs": [],
   "source": [
    "import seaborn as sns\n",
    "\n",
    "data_b = diabetes[['F1', 'F2', 'F3', 'F4', 'F5', 'F6', 'F7', 'F8']]\n",
    "grpbxplt = sns.boxplot(data=data_b, orient='h', palette='Pastel2')"
   ]
  },
  {
   "cell_type": "code",
   "execution_count": null,
   "id": "017f6460",
   "metadata": {},
   "outputs": [],
   "source": [
    "# Plotting the distributions of all features depending on the output, i.e. whether diabetic or not.\n",
    "\n",
    "diabetes.groupby('Output').hist(figsize=(9,9))"
   ]
  },
  {
   "cell_type": "code",
   "execution_count": null,
   "id": "9a4716a6",
   "metadata": {},
   "outputs": [],
   "source": [
    "y = diabetes.Output"
   ]
  },
  {
   "cell_type": "code",
   "execution_count": null,
   "id": "308f4d3c",
   "metadata": {},
   "outputs": [],
   "source": [
    "x = diabetes.drop('Output',axis=1)"
   ]
  },
  {
   "cell_type": "code",
   "execution_count": null,
   "id": "a831a797",
   "metadata": {},
   "outputs": [],
   "source": [
    "x_train,x_test,y_train,y_test=train_test_split(x,y,test_size=0.2)"
   ]
  },
  {
   "cell_type": "code",
   "execution_count": null,
   "id": "c2b1342f",
   "metadata": {},
   "outputs": [],
   "source": [
    "x_train.head()"
   ]
  },
  {
   "cell_type": "code",
   "execution_count": null,
   "id": "b0345d20",
   "metadata": {},
   "outputs": [],
   "source": [
    "y_train.head()"
   ]
  },
  {
   "cell_type": "markdown",
   "id": "8d1b6b60",
   "metadata": {},
   "source": [
    "### Using Pytorch"
   ]
  },
  {
   "cell_type": "code",
   "execution_count": null,
   "id": "b3b6db9e",
   "metadata": {},
   "outputs": [],
   "source": [
    "import torch.optim as optim\n",
    "import torch\n",
    "\n",
    "lin_model = nn.Sequential(nn.Linear(8,1))\n",
    "criterion = nn.MSELoss()\n",
    "optimizer1 = optim.Adam(lin_model.parameters(), lr=0.01)"
   ]
  },
  {
   "cell_type": "code",
   "execution_count": null,
   "id": "acf90c5d",
   "metadata": {},
   "outputs": [],
   "source": [
    "import torch.utils.data as Data\n",
    "\n",
    "x_train_t = torch.tensor(x_train.values)\n",
    "y_train_t = torch.Tensor(y_train.to_numpy(dtype=np.float64))\n",
    "train_data = Data.TensorDataset(x_train_t, y_train_t)\n",
    "x_test_t = torch.tensor(x_test.values)\n",
    "y_test_t = torch.tensor(y_test.to_numpy(dtype=np.float64))\n",
    "test_data = Data.TensorDataset(x_test_t, y_test_t)\n",
    "train_data1 = Data.DataLoader(dataset = train_data, batch_size = 32, shuffle = True)\n",
    "test_data1 = Data.DataLoader(dataset = test_data, batch_size = 32, shuffle = True)"
   ]
  },
  {
   "cell_type": "code",
   "execution_count": null,
   "id": "c9c46fd6",
   "metadata": {},
   "outputs": [],
   "source": [
    "x_train.shape[0]"
   ]
  },
  {
   "cell_type": "code",
   "execution_count": null,
   "id": "d6527e0c",
   "metadata": {},
   "outputs": [],
   "source": [
    "x_test.shape[0]"
   ]
  },
  {
   "cell_type": "code",
   "execution_count": null,
   "id": "08432683",
   "metadata": {},
   "outputs": [],
   "source": [
    "for epoch in range(7):\n",
    "    total_loss = 0\n",
    "    for i, (inputs, outputs) in enumerate(train_data1):\n",
    "        optimizer1.zero_grad()\n",
    "        y_pred1 = lin_model(inputs.float())\n",
    "        loss = criterion(y_pred1, outputs.float())\n",
    "        loss.backward()\n",
    "        optimizer1.step()\n",
    "        total_loss += loss.item()\n",
    "    else:\n",
    "        print(f'{epoch+1} loss: {total_loss/len(x_train)}')"
   ]
  },
  {
   "cell_type": "code",
   "execution_count": null,
   "id": "9a9e2b28",
   "metadata": {},
   "outputs": [],
   "source": [
    "ypred1b = lin_model(x_test_t.float())"
   ]
  },
  {
   "cell_type": "code",
   "execution_count": null,
   "id": "fb2de631",
   "metadata": {},
   "outputs": [],
   "source": [
    "for i in range(len(ypred1b)):\n",
    "    if(ypred1b[i] < 0.5):\n",
    "        ypred1b[i] = 0\n",
    "    else:\n",
    "        ypred1b[i] = 1"
   ]
  },
  {
   "cell_type": "code",
   "execution_count": null,
   "id": "05b5b52d",
   "metadata": {},
   "outputs": [],
   "source": [
    "y = ypred1b.detach().numpy()"
   ]
  },
  {
   "cell_type": "code",
   "execution_count": null,
   "id": "406c1347",
   "metadata": {},
   "outputs": [],
   "source": [
    "from sklearn.metrics import accuracy_score\n",
    "\n",
    "print(accuracy_score(y_test, y))"
   ]
  },
  {
   "cell_type": "markdown",
   "id": "3c1c345e",
   "metadata": {},
   "source": [
    "### H1: Adding a sigmoid activation function layer to the model "
   ]
  },
  {
   "cell_type": "code",
   "execution_count": null,
   "id": "1b58cb8a",
   "metadata": {},
   "outputs": [],
   "source": [
    "lin_model2 = nn.Sequential(nn.Linear(8,16),\n",
    "    nn.Sigmoid(),\n",
    "    nn.Linear(16,1))\n",
    "criterion = nn.MSELoss()\n",
    "optimizer2 = optim.Adam(lin_model2.parameters(), lr=0.01)"
   ]
  },
  {
   "cell_type": "code",
   "execution_count": null,
   "id": "7ce76b29",
   "metadata": {},
   "outputs": [],
   "source": [
    "for epoch in range(7):\n",
    "    total_loss = 0\n",
    "    for i, (inputs, outputs) in enumerate(train_data1):\n",
    "        optimizer2.zero_grad()\n",
    "        y_pred2 = lin_model2(inputs.float())\n",
    "        loss = criterion(y_pred2, outputs.float())\n",
    "        loss.backward()\n",
    "        optimizer2.step()\n",
    "        total_loss += loss.item()\n",
    "    else:\n",
    "        print(f'{epoch+1} loss: {total_loss/len(x_train)}')"
   ]
  },
  {
   "cell_type": "code",
   "execution_count": null,
   "id": "3e12626a",
   "metadata": {},
   "outputs": [],
   "source": [
    "# printing accuracy\n",
    "ypred2b = lin_model2(x_test_t.float())\n",
    "for i in range(len(ypred2b)):\n",
    "    if(ypred2b[i] < 0.5):\n",
    "        ypred2b[i] = 0\n",
    "    else:\n",
    "        ypred2b[i] = 1\n",
    "\n",
    "y2 = ypred2b.detach().numpy()\n",
    "print(accuracy_score(y_test, y2))"
   ]
  },
  {
   "cell_type": "markdown",
   "id": "7ebceabe",
   "metadata": {},
   "source": [
    "#### On increasing the number of layers, we are getting improved accuracy."
   ]
  },
  {
   "cell_type": "markdown",
   "id": "8ca54c76",
   "metadata": {},
   "source": [
    "### H2: Changing the activation function"
   ]
  },
  {
   "cell_type": "code",
   "execution_count": null,
   "id": "88411799",
   "metadata": {},
   "outputs": [],
   "source": [
    "lin_model3 = nn.Sequential(nn.Linear(8,16),\n",
    "    nn.ReLU(),\n",
    "    nn.Linear(16,1))\n",
    "criterion = nn.MSELoss()\n",
    "optimizer3 = optim.Adam(lin_model3.parameters(), lr=0.01)"
   ]
  },
  {
   "cell_type": "code",
   "execution_count": null,
   "id": "6373f4b1",
   "metadata": {},
   "outputs": [],
   "source": [
    "for epoch in range(7):\n",
    "    total_loss = 0\n",
    "    for i, (inputs, outputs) in enumerate(train_data1):\n",
    "        optimizer3.zero_grad()\n",
    "        y_pred3 = lin_model3(inputs.float())\n",
    "        loss = criterion(y_pred3, outputs.float())\n",
    "        loss.backward()\n",
    "        optimizer3.step()\n",
    "        total_loss += loss.item()\n",
    "    else:\n",
    "        print(f'{epoch+1} loss: {total_loss/len(x_train)}')"
   ]
  },
  {
   "cell_type": "code",
   "execution_count": null,
   "id": "6915e89b",
   "metadata": {},
   "outputs": [],
   "source": [
    "# printing accuracy\n",
    "ypred3b = lin_model3(x_test_t.float())\n",
    "for i in range(len(ypred3b)):\n",
    "    if(ypred3b[i] < 0.5):\n",
    "        ypred3b[i] = 0\n",
    "    else:\n",
    "        ypred3b[i] = 1\n",
    "\n",
    "y3 = ypred3b.detach().numpy()\n",
    "print(accuracy_score(y_test, y3))"
   ]
  },
  {
   "cell_type": "markdown",
   "id": "6a11729f",
   "metadata": {},
   "source": [
    "#### Not much difference in accuracy when activation function is changed."
   ]
  }
 ],
 "metadata": {
  "kernelspec": {
   "display_name": "Python 3 (ipykernel)",
   "language": "python",
   "name": "python3"
  },
  "language_info": {
   "codemirror_mode": {
    "name": "ipython",
    "version": 3
   },
   "file_extension": ".py",
   "mimetype": "text/x-python",
   "name": "python",
   "nbconvert_exporter": "python",
   "pygments_lexer": "ipython3",
   "version": "3.9.7"
  }
 },
 "nbformat": 4,
 "nbformat_minor": 5
}
