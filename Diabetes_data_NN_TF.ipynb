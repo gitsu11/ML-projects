{
 "cells": [
  {
   "cell_type": "code",
   "execution_count": null,
   "id": "c5457420",
   "metadata": {},
   "outputs": [],
   "source": [
    "#conda install PyTorch -c Pytorch"
   ]
  },
  {
   "cell_type": "code",
   "execution_count": null,
   "id": "57218d12",
   "metadata": {},
   "outputs": [],
   "source": [
    "#pip install tensorflow --ignore-installed"
   ]
  },
  {
   "cell_type": "code",
   "execution_count": null,
   "id": "545e11a4",
   "metadata": {},
   "outputs": [],
   "source": [
    "# Importing all the required libraries\n",
    "\n",
    "%matplotlib inline\n",
    "import pandas as pd\n",
    "import numpy as np\n",
    "import matplotlib.pyplot as plt\n",
    "import seaborn as sns\n",
    "from sklearn.model_selection import train_test_split\n",
    "from tensorflow import keras\n",
    "from keras.models import Sequential\n",
    "from keras.layers import Dense\n",
    "from sklearn.model_selection import train_test_split\n",
    "from sklearn.metrics import accuracy_score\n",
    "from sklearn.metrics import confusion_matrix"
   ]
  },
  {
   "cell_type": "code",
   "execution_count": null,
   "id": "6750b0c9",
   "metadata": {},
   "outputs": [],
   "source": [
    "diabetes = pd.read_csv('diabetes.csv')"
   ]
  },
  {
   "cell_type": "code",
   "execution_count": null,
   "id": "ff74417f",
   "metadata": {},
   "outputs": [],
   "source": [
    "diabetes.columns = ('F1', 'F2', 'F3', 'F4', 'F5', 'F6', 'F7', 'F8', 'Output')"
   ]
  },
  {
   "cell_type": "code",
   "execution_count": null,
   "id": "7ee75377",
   "metadata": {},
   "outputs": [],
   "source": [
    "diabetes.head()"
   ]
  },
  {
   "cell_type": "code",
   "execution_count": null,
   "id": "6352bd63",
   "metadata": {},
   "outputs": [],
   "source": [
    "diabetes.shape"
   ]
  },
  {
   "cell_type": "code",
   "execution_count": null,
   "id": "dcb00464",
   "metadata": {},
   "outputs": [],
   "source": [
    "diabetes.info"
   ]
  },
  {
   "cell_type": "code",
   "execution_count": null,
   "id": "9c55c4e5",
   "metadata": {},
   "outputs": [],
   "source": [
    "diabetes.describe()"
   ]
  },
  {
   "cell_type": "code",
   "execution_count": null,
   "id": "1e3f45b7",
   "metadata": {},
   "outputs": [],
   "source": [
    "diabetes.isnull().sum()"
   ]
  },
  {
   "cell_type": "code",
   "execution_count": null,
   "id": "01667d85",
   "metadata": {},
   "outputs": [],
   "source": [
    "diabetes.groupby('Output').size()"
   ]
  },
  {
   "cell_type": "code",
   "execution_count": null,
   "id": "663f35d6",
   "metadata": {},
   "outputs": [],
   "source": [
    "#maybe zero is the actual value and we don't have any null values so these codes are not required\n",
    "(diabetes['F1']==0).sum()"
   ]
  },
  {
   "cell_type": "code",
   "execution_count": null,
   "id": "6e94c20d",
   "metadata": {},
   "outputs": [],
   "source": [
    "(diabetes['F2']==0).sum()"
   ]
  },
  {
   "cell_type": "code",
   "execution_count": null,
   "id": "3c3f7e09",
   "metadata": {},
   "outputs": [],
   "source": [
    "(diabetes['F3']==0).sum()"
   ]
  },
  {
   "cell_type": "code",
   "execution_count": null,
   "id": "695fdda0",
   "metadata": {},
   "outputs": [],
   "source": [
    "(diabetes['F4']==0).sum()"
   ]
  },
  {
   "cell_type": "code",
   "execution_count": null,
   "id": "571aa4de",
   "metadata": {},
   "outputs": [],
   "source": [
    "(diabetes['F5']==0).sum()"
   ]
  },
  {
   "cell_type": "code",
   "execution_count": null,
   "id": "98d4d6b9",
   "metadata": {},
   "outputs": [],
   "source": [
    "(diabetes['F6']==0).sum()"
   ]
  },
  {
   "cell_type": "code",
   "execution_count": null,
   "id": "63070ff3",
   "metadata": {},
   "outputs": [],
   "source": [
    "(diabetes['F7']==0).sum()"
   ]
  },
  {
   "cell_type": "code",
   "execution_count": null,
   "id": "462e737d",
   "metadata": {},
   "outputs": [],
   "source": [
    "(diabetes['F8']==0).sum()"
   ]
  },
  {
   "cell_type": "code",
   "execution_count": null,
   "id": "db835437",
   "metadata": {},
   "outputs": [],
   "source": [
    "import seaborn as sns\n",
    "\n",
    "data_b = diabetes[['F1', 'F2', 'F3', 'F4', 'F5', 'F6', 'F7', 'F8']]\n",
    "grpbxplt = sns.boxplot(data=data_b, orient='h', palette='Pastel2')"
   ]
  },
  {
   "cell_type": "code",
   "execution_count": null,
   "id": "017f6460",
   "metadata": {},
   "outputs": [],
   "source": [
    "# Plotting the distributions of all features depending on the output, i.e. whether diabetic or not.\n",
    "\n",
    "diabetes.groupby('Output').hist(figsize=(9,9))"
   ]
  },
  {
   "cell_type": "code",
   "execution_count": null,
   "id": "9a4716a6",
   "metadata": {},
   "outputs": [],
   "source": [
    "y = diabetes.Output"
   ]
  },
  {
   "cell_type": "code",
   "execution_count": null,
   "id": "308f4d3c",
   "metadata": {},
   "outputs": [],
   "source": [
    "x = diabetes.drop('Output',axis=1)"
   ]
  },
  {
   "cell_type": "code",
   "execution_count": null,
   "id": "a831a797",
   "metadata": {},
   "outputs": [],
   "source": [
    "x_train,x_test,y_train,y_test=train_test_split(x,y,test_size=0.2)"
   ]
  },
  {
   "cell_type": "code",
   "execution_count": null,
   "id": "c2b1342f",
   "metadata": {},
   "outputs": [],
   "source": [
    "x_train.head()"
   ]
  },
  {
   "cell_type": "code",
   "execution_count": null,
   "id": "cc564ce4",
   "metadata": {},
   "outputs": [],
   "source": [
    "y_train.head()"
   ]
  },
  {
   "cell_type": "markdown",
   "id": "ddb1fcfe",
   "metadata": {},
   "source": [
    "### Using Tensorflow"
   ]
  },
  {
   "cell_type": "code",
   "execution_count": null,
   "id": "7a2da3c2",
   "metadata": {},
   "outputs": [],
   "source": [
    "import tensorflow as tf"
   ]
  },
  {
   "cell_type": "code",
   "execution_count": null,
   "id": "34f9d6d5",
   "metadata": {},
   "outputs": [],
   "source": [
    "#Initializing the model and adding the layers:\n",
    "\n",
    "lin_model = tf.keras.Sequential([tf.keras.layers.Dense(1,\"sigmoid\")])"
   ]
  },
  {
   "cell_type": "code",
   "execution_count": null,
   "id": "3bceb62c",
   "metadata": {},
   "outputs": [],
   "source": [
    "# Compiling the model with an adam optimizer, using loss as MSE and metrics as accuracy \n",
    "\n",
    "lin_model.compile(optimizer='adam', loss = 'MSE', metrics=['accuracy'])"
   ]
  },
  {
   "cell_type": "code",
   "execution_count": null,
   "id": "cb0c8f25",
   "metadata": {},
   "outputs": [],
   "source": [
    "# training the model\n",
    "\n",
    "epoc_d = lin_model.fit(x_train,y_train, epochs =10)"
   ]
  },
  {
   "cell_type": "code",
   "execution_count": null,
   "id": "92495c63",
   "metadata": {},
   "outputs": [],
   "source": [
    "# printing the predictions of the model\n",
    "\n",
    "lin_pred = lin_model.predict(x_test)"
   ]
  },
  {
   "cell_type": "code",
   "execution_count": null,
   "id": "88d576c4",
   "metadata": {},
   "outputs": [],
   "source": [
    "for i in range(len(lin_pred)):\n",
    "    if(lin_pred[i] < 0.5):\n",
    "        lin_pred[i] = 0\n",
    "    else:\n",
    "        lin_pred[i] = 1"
   ]
  },
  {
   "cell_type": "code",
   "execution_count": null,
   "id": "0979150e",
   "metadata": {},
   "outputs": [],
   "source": [
    "# checking the accuracy of the model\n",
    "\n",
    "from sklearn.metrics import accuracy_score\n",
    "\n",
    "print(accuracy_score(y_test, lin_pred))"
   ]
  },
  {
   "cell_type": "markdown",
   "id": "a279487f",
   "metadata": {},
   "source": [
    "#### H1: Using a different activation function than sigmoid, like relu"
   ]
  },
  {
   "cell_type": "code",
   "execution_count": null,
   "id": "aedf483a",
   "metadata": {},
   "outputs": [],
   "source": [
    "lin_model2 = tf.keras.Sequential([tf.keras.layers.Dense(1,\"relu\")])\n",
    "lin_model2.compile(optimizer='adam', loss = 'MSE', metrics=['accuracy'])\n",
    "epoc_d2 = lin_model2.fit(x_train,y_train, epochs =5,validation_data=(x_test, y_test))"
   ]
  },
  {
   "cell_type": "code",
   "execution_count": null,
   "id": "bfc15f58",
   "metadata": {},
   "outputs": [],
   "source": [
    "# printing the accuracy of the model\n",
    "\n",
    "lin_pred2 = lin_model2.predict(x_test)\n",
    "\n",
    "for i in range(len(lin_pred2)):\n",
    "    if(lin_pred2[i] < 0.5):\n",
    "        lin_pred2[i] = 0\n",
    "    else:\n",
    "        lin_pred2[i] = 1\n",
    "\n",
    "print(accuracy_score(y_test, lin_pred2))"
   ]
  },
  {
   "cell_type": "markdown",
   "id": "0ea5a341",
   "metadata": {},
   "source": [
    "#### H2: Using multiple layers"
   ]
  },
  {
   "cell_type": "code",
   "execution_count": null,
   "id": "c3f6beb1",
   "metadata": {},
   "outputs": [],
   "source": [
    "model3 = tf.keras.Sequential([\n",
    "    tf.keras.layers.Dense(16, activation='sigmoid', input_shape=[8,]),\n",
    "    tf.keras.layers.Dense(16, activation='sigmoid'),\n",
    "    tf.keras.layers.Dense(1)\n",
    "])\n",
    "model3.compile(optimizer='adam', loss='MSE', metrics=['accuracy'])\n",
    "model3.fit(x_train, y_train, epochs=5)\n",
    "model3_predict = model3.predict(x_test)"
   ]
  },
  {
   "cell_type": "code",
   "execution_count": null,
   "id": "549174af",
   "metadata": {},
   "outputs": [],
   "source": [
    "# printing the accuracy of the model\n",
    "\n",
    "model3_pred = model3.predict(x_test)\n",
    "\n",
    "for i in range(len(model3_pred)):\n",
    "    if(model3_pred[i] < 0.5):\n",
    "        model3_pred[i] = 0\n",
    "    else:\n",
    "        model3_pred[i] = 1\n",
    "\n",
    "print(accuracy_score(y_test, model3_pred))"
   ]
  },
  {
   "cell_type": "markdown",
   "id": "0e0e21e8",
   "metadata": {},
   "source": [
    "#### H3: Using different functions in the different layers"
   ]
  },
  {
   "cell_type": "code",
   "execution_count": null,
   "id": "5e4cbf4c",
   "metadata": {},
   "outputs": [],
   "source": [
    "model4 = tf.keras.Sequential([\n",
    "    tf.keras.layers.Dense(16, activation='sigmoid', input_shape=[8,]),\n",
    "    tf.keras.layers.Dense(16, activation='relu'),\n",
    "    tf.keras.layers.Dense(1)\n",
    "])\n",
    "model4.compile(optimizer='adam', loss='MSE', metrics=['accuracy'])\n",
    "model4.fit(x_train, y_train, epochs=5)\n",
    "model4_predict = model4.predict(x_test)"
   ]
  },
  {
   "cell_type": "code",
   "execution_count": null,
   "id": "de14482e",
   "metadata": {},
   "outputs": [],
   "source": [
    "# printing the accuracy of the model\n",
    "\n",
    "model4_pred = model4.predict(x_test)\n",
    "\n",
    "for i in range(len(model4_pred)):\n",
    "    if(model4_pred[i] < 0.5):\n",
    "        model4_pred[i] = 0\n",
    "    else:\n",
    "        model4_pred[i] = 1\n",
    "\n",
    "print(accuracy_score(y_test, model4_pred))"
   ]
  },
  {
   "cell_type": "markdown",
   "id": "f1f52dff",
   "metadata": {},
   "source": [
    "#### H4: Adding one more layer"
   ]
  },
  {
   "cell_type": "code",
   "execution_count": null,
   "id": "0deb4d46",
   "metadata": {},
   "outputs": [],
   "source": [
    "#Initializing the model and adding the layers:\n",
    "\n",
    "model5 = Sequential()\n",
    "model5.add(Dense(8, input_dim=8))\n",
    "model5.add(Dense(8, activation='relu'))\n",
    "model5.add(Dense(1, activation='sigmoid'))"
   ]
  },
  {
   "cell_type": "code",
   "execution_count": null,
   "id": "aed78e42",
   "metadata": {},
   "outputs": [],
   "source": [
    "# Compile the model with an optimizer\n",
    "model5.compile(loss='MSE', optimizer='adam', metrics=['accuracy'])"
   ]
  },
  {
   "cell_type": "code",
   "execution_count": null,
   "id": "2d3aa9ca",
   "metadata": {},
   "outputs": [],
   "source": [
    "model5.summary()"
   ]
  },
  {
   "cell_type": "code",
   "execution_count": null,
   "id": "971c6ab7",
   "metadata": {},
   "outputs": [],
   "source": [
    "epoc_d = model5.fit(x_train,y_train, epochs =10,validation_data=(x_test, y_test))"
   ]
  },
  {
   "cell_type": "code",
   "execution_count": null,
   "id": "93404b17",
   "metadata": {
    "scrolled": true
   },
   "outputs": [],
   "source": [
    "# printing the accuracy of the model\n",
    "\n",
    "model5_pred = model5.predict(x_test)\n",
    "\n",
    "for i in range(len(model5_pred)):\n",
    "    if(model5_pred[i] < 0.5):\n",
    "        model5_pred[i] = 0\n",
    "    else:\n",
    "        model5_pred[i] = 1\n",
    "\n",
    "print(accuracy_score(y_test, model5_pred))"
   ]
  },
  {
   "cell_type": "markdown",
   "id": "4d88ad4e",
   "metadata": {},
   "source": [
    "### We notice that as we increase the number of layers or the width/depth of the neural network model, the accuracy of predictions improves. \n",
    "### Sigmoid function shows better results here than relu maybe because it is a much smoother curve and represents the data well.\n",
    "### Increasing the number of epochs also results in better accuracy but it might also lead to overfitting."
   ]
  }
 ],
 "metadata": {
  "kernelspec": {
   "display_name": "Python 3 (ipykernel)",
   "language": "python",
   "name": "python3"
  },
  "language_info": {
   "codemirror_mode": {
    "name": "ipython",
    "version": 3
   },
   "file_extension": ".py",
   "mimetype": "text/x-python",
   "name": "python",
   "nbconvert_exporter": "python",
   "pygments_lexer": "ipython3",
   "version": "3.9.7"
  }
 },
 "nbformat": 4,
 "nbformat_minor": 5
}
